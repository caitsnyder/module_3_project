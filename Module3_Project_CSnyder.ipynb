{
  "nbformat": 4,
  "nbformat_minor": 0,
  "metadata": {
    "colab": {
      "name": "Module3_Project_CSnyder.ipynb",
      "provenance": [],
      "collapsed_sections": []
    },
    "kernelspec": {
      "display_name": "Python 3",
      "language": "python",
      "name": "python3"
    },
    "language_info": {
      "codemirror_mode": {
        "name": "ipython",
        "version": 3
      },
      "file_extension": ".py",
      "mimetype": "text/x-python",
      "name": "python",
      "nbconvert_exporter": "python",
      "pygments_lexer": "ipython3",
      "version": "3.7.3"
    }
  },
  "cells": [
    {
      "cell_type": "markdown",
      "metadata": {
        "id": "Vh_y8jhky5Ba"
      },
      "source": [
        "## Final Project Submission\n",
        "\n",
        "You'll clean, explore, and model this dataset with a multivariate linear regression to predict the sale price of houses as accurately as possible.\n",
        "\n",
        "* Student name: Caitlin Snyder\n",
        "* Student pace: self-paced\n",
        "* Scheduled project review date/time: \n",
        "* Instructor name: Jeff Herman\n",
        "* Blog post URL: https://caitlinsnyder.medium.com/predicting-water-point-functionality-in-tanzania-6e566c0ff18a?postPublishedType=initial\n",
        "\n"
      ]
    },
    {
      "cell_type": "markdown",
      "metadata": {
        "id": "1r15i9rCy5Bg"
      },
      "source": [
        "# 1) Introduction"
      ]
    },
    {
      "cell_type": "markdown",
      "metadata": {
        "id": "nIz4ym5Hy5Bh"
      },
      "source": [
        "As I wrap up Module 3 of Flat Iron's Data Science bootcamp, I will be tacking a Driven Data competition, [Pump It Up: Data Mining the Water Table](https://www.drivendata.org/competitions/7/pump-it-up-data-mining-the-water-table/page/25/).\n",
        "\n",
        "Follow along below, or take a look at the [Jupyter notebook and repo on GitHub](https://github.com/caitsnyder/module_3_project).\n",
        "\n",
        "The competition provides a dataset of water points in Tanzania and their associated characteristics. It is our job to predict, using the supplied training labels, whether a pump is functional, non-functional, or functional but in need of repair.\n"
      ]
    },
    {
      "cell_type": "markdown",
      "metadata": {
        "id": "zy1YOI08y5Bi"
      },
      "source": [
        "In the below, I'll be building a model to predict water point status given a testing dataset. Let's get started!"
      ]
    },
    {
      "cell_type": "code",
      "metadata": {
        "colab": {
          "base_uri": "https://localhost:8080/"
        },
        "id": "yu_E2qmay5Bj",
        "outputId": "94ba64d1-dbae-444c-8fae-d0437fa768ba"
      },
      "source": [
        "import sys\n",
        "import re\n",
        "import os\n",
        "import pathlib\n",
        "\n",
        "from google.colab import drive\n",
        "drive.mount('/content/gdrive')\n",
        "\n",
        "\n",
        "import pandas as pd\n",
        "import numpy as np\n",
        "import matplotlib.pyplot as plt\n",
        "import seaborn as sns\n",
        "\n",
        "from sklearn.metrics._plot.confusion_matrix import plot_confusion_matrix\n",
        "from sklearn.utils import resample\n",
        "from sklearn.pipeline import Pipeline\n",
        "from sklearn.impute import SimpleImputer\n",
        "from sklearn.preprocessing import StandardScaler\n",
        "from sklearn.preprocessing import OneHotEncoder\n",
        "from sklearn.compose import ColumnTransformer\n",
        "from sklearn.svm import SVC\n",
        "from sklearn.tree import DecisionTreeClassifier\n",
        "from sklearn.ensemble import RandomForestClassifier\n",
        "from sklearn.neighbors import KNeighborsClassifier\n",
        "from sklearn.model_selection import RandomizedSearchCV, GridSearchCV\n",
        "from sklearn.metrics import accuracy_score\n",
        "from sklearn.model_selection import train_test_split as tts\n",
        "\n",
        "from imblearn.pipeline import Pipeline as imbPipeline\n",
        "from imblearn.over_sampling import RandomOverSampler\n",
        "\n",
        "# !{sys.executable} -m pip install xgboost\n",
        "from xgboost import XGBClassifier\n"
      ],
      "execution_count": 1,
      "outputs": [
        {
          "output_type": "stream",
          "text": [
            "Mounted at /content/gdrive\n"
          ],
          "name": "stdout"
        },
        {
          "output_type": "stream",
          "text": [
            "/usr/local/lib/python3.7/dist-packages/sklearn/externals/six.py:31: FutureWarning: The module is deprecated in version 0.21 and will be removed in version 0.23 since we've dropped support for Python 2.7. Please rely on the official version of six (https://pypi.org/project/six/).\n",
            "  \"(https://pypi.org/project/six/).\", FutureWarning)\n",
            "/usr/local/lib/python3.7/dist-packages/sklearn/utils/deprecation.py:144: FutureWarning: The sklearn.neighbors.base module is  deprecated in version 0.22 and will be removed in version 0.24. The corresponding classes / functions should instead be imported from sklearn.neighbors. Anything that cannot be imported from sklearn.neighbors is now part of the private API.\n",
            "  warnings.warn(message, FutureWarning)\n"
          ],
          "name": "stderr"
        }
      ]
    },
    {
      "cell_type": "markdown",
      "metadata": {
        "id": "IucCqU3ty5Bk"
      },
      "source": [
        "# 2) Define the relevant classes"
      ]
    },
    {
      "cell_type": "markdown",
      "metadata": {
        "id": "YxZHnUJcy5Bl"
      },
      "source": [
        "I'll be taking an object-oriented approach to this project and will begin by defining the classes and constants I'll need."
      ]
    },
    {
      "cell_type": "markdown",
      "metadata": {
        "id": "0ax0SAv0y5Bm"
      },
      "source": [
        "## A) Accessing the data"
      ]
    },
    {
      "cell_type": "markdown",
      "metadata": {
        "id": "hJbQVa1oy5Bn"
      },
      "source": [
        "### Paths\n",
        "We'll define our path strings within a simple dictionary for easy loading:\n"
      ]
    },
    {
      "cell_type": "code",
      "metadata": {
        "id": "ybN7mL0Ly5CP"
      },
      "source": [
        "data_folder = r'/content/gdrive/MyDrive/Colab Notebooks/Mod3/data/'\n",
        "\n",
        "paths = {\n",
        "        'train_values': pathlib.Path(data_folder + 'training_set_values.csv'),\n",
        "        'train_labels': pathlib.Path(data_folder + 'training_set_labels.csv'),\n",
        "        'test_values': pathlib.Path(data_folder + 'test_set_values.csv')\n",
        "}\n"
      ],
      "execution_count": 2,
      "outputs": []
    },
    {
      "cell_type": "markdown",
      "metadata": {
        "id": "G-vH4tmgy5CQ"
      },
      "source": [
        "### Data Loader\n",
        "The Data Loader will load the appropriate csvs. This helper class includes an option (run_type_dev) to downsample our dataset as needed:"
      ]
    },
    {
      "cell_type": "code",
      "metadata": {
        "id": "mLlZi94Ay5CQ"
      },
      "source": [
        "class DataLoader:\n",
        "    def __init__(self):\n",
        "        pass\n",
        "\n",
        "    def load(self, outcome, run_type_dev, sample_size):\n",
        "        X_train = self.load_from_path(paths['train_values'])\n",
        "        y_train = self.load_from_path(paths['train_labels'])\n",
        "        \n",
        "        if run_type_dev:\n",
        "            print(f\"Sample size = {sample_size}\")\n",
        "            X_train = X_train.iloc[0:sample_size]\n",
        "            y_train = y_train.iloc[0:sample_size]\n",
        "            \n",
        "        df = pd.concat([X_train, y_train], axis=1, join=\"inner\")\n",
        "        self.outcome_values = np.unique(df[outcome])\n",
        "        return df\n",
        "    \n",
        "    def load_from_path(self, path):\n",
        "        df = pd.read_csv(path)\n",
        "        df.set_index('id', inplace=True)\n",
        "        return df\n",
        "        "
      ],
      "execution_count": 3,
      "outputs": []
    },
    {
      "cell_type": "markdown",
      "metadata": {
        "id": "fB8T2iv5y5CR"
      },
      "source": [
        "## B) Cleaning the data"
      ]
    },
    {
      "cell_type": "markdown",
      "metadata": {
        "id": "pI7tE_Icy5CU"
      },
      "source": [
        "### VizHelper\n",
        "The Viz Helper will output relevant visualizations to inform iterative cleaning and analysis:"
      ]
    },
    {
      "cell_type": "code",
      "metadata": {
        "id": "v61Y1ED8y5CV"
      },
      "source": [
        "class VizHelper:\n",
        "    def __init__(self):\n",
        "        pass\n",
        "\n",
        "    def show_visualizations(self, df, outcome):\n",
        "        cont_features = df.select_dtypes(exclude=['object']).columns\n",
        "        self.check_outcome_distribution(df, outcome)\n",
        "        self.generate_heat_map(df, cont_features)\n",
        "        self.show_outliers(df, cont_features)\n",
        "        self.show_basic_correlations(df, cont_features, outcome)\n",
        "        self.show_outcome_dist(df, outcome)\n",
        "\n",
        "    def check_outcome_distribution(self, df, outcome):\n",
        "        labels = df[outcome].value_counts().index\n",
        "        cnts = df[outcome].value_counts().values\n",
        "        \n",
        "        df_temp = pd.DataFrame({'labels':labels, 'counts':cnts})\n",
        "        ax = df_temp.plot.bar(x='labels', y='counts', rot=0)\n",
        "        ax.set_title(\"Frequency of outcome values\")\n",
        "\n",
        "    def generate_heat_map(self, df, features):\n",
        "        plt.figure(figsize=(7, 6))\n",
        "        sns.heatmap(df[features].corr(), center=0)\n",
        "        plt.show()\n",
        "\n",
        "    def show_outliers(self, df, cols):\n",
        "        fig, axes = plt.subplots(2, 3, figsize=(9, 6))\n",
        "        axe = axes.ravel()\n",
        "\n",
        "        for i, xcol in enumerate(cols):\n",
        "            sns.boxplot(x=df[xcol], ax=axe[i])\n",
        "        plt.show()\n",
        "\n",
        "    def show_basic_correlations(self, df, cols, outcome):\n",
        "        preds = [i for i in cols if i != outcome]\n",
        "        fig, axes = plt.subplots(2, 3, figsize=(9, 6))\n",
        "        axe = axes.ravel()\n",
        "\n",
        "        for i, xcol in enumerate(preds):\n",
        "            df.plot(kind='scatter', x=xcol, y=outcome, alpha=0.4, color='b', ax=axe[i])\n",
        "        \n",
        "        plt.show()\n",
        "\n",
        "    def show_outcome_dist(self, df, outcome):\n",
        "        df[outcome].value_counts().plot(kind='bar')\n",
        "\n",
        "    def show_confusion_matrix(self, clf, X_test, y_test, outcome, title):\n",
        "        labels = y_test[outcome].unique()\n",
        "        disp = plot_confusion_matrix(clf, X_test, y_test,\n",
        "                                        display_labels=labels,\n",
        "                                        cmap=plt.cm.Greens,\n",
        "                                        xticks_rotation='vertical')\n",
        "        disp.ax_.set_title(title)\n",
        "        plt.show()\n"
      ],
      "execution_count": 4,
      "outputs": []
    },
    {
      "cell_type": "markdown",
      "metadata": {
        "id": "QswtL-5Ny5CW"
      },
      "source": [
        "### Cleaner\n",
        "Our Cleaner will perform basic cleaning tasks (eliminate impossible 0 values, correct column data types) on our raw data:"
      ]
    },
    {
      "cell_type": "code",
      "metadata": {
        "id": "YOBNuL6iy5CX"
      },
      "source": [
        "class Cleaner():\n",
        "    def __init__(self):\n",
        "        self.viz_helper = VizHelper()\n",
        "\n",
        "    def clean_df(self, df):\n",
        "        df.drop(['num_private', 'amount_tsh'], axis=1, inplace=True)\n",
        "        self.convert_to_string(df)\n",
        "        self.replace_nan(df)\n",
        "        self.bin_date(df)\n",
        "        self.bin_categorical_features(df)\n",
        "        return df\n",
        "\n",
        "    def convert_to_string(self, df):\n",
        "        cols = [\n",
        "            'region_code', \n",
        "            'district_code', \n",
        "            'public_meeting', \n",
        "            'permit'\n",
        "        ]\n",
        "        list(map(lambda col: self.change_type(df, col, str), cols))\n",
        "    \n",
        "    def change_type(self, df, col, new_type):\n",
        "        df[col] = df[col].astype(new_type)\n",
        "\n",
        "    def replace_nan(self, df):\n",
        "        self.replace_null_strings(df, \"nan\")\n",
        "        self.replace_null_strings(df, \"none\")\n",
        "        self.replace_zeros(df, \"longitude\")\n",
        "        self.replace_zeros(df, \"latitude\")\n",
        "        self.replace_zeros(df, 'construction_year')\n",
        "        self.replace_zeros(df, 'population')\n",
        "\n",
        "    def replace_null_strings(self, df, null_str):\n",
        "        df.replace(to_replace=null_str, value=\"unknown\", inplace=True)\n",
        "\n",
        "    def replace_zeros(self, df, col):\n",
        "        df[col] = df.apply(lambda row: np.nan \n",
        "            if row[col] == 0 else row[col], axis=1)\n",
        "\n",
        "    def bin_date(self, df):\n",
        "        df['year'] = [x.split(\"-\")[0] for x in df['date_recorded']]\n",
        "        df['month'] = [x.split(\"-\")[1] for x in df['date_recorded']]\n",
        "        df.drop(['date_recorded'], axis=1, inplace=True)\n",
        "\n",
        "    def bin_categorical_features(self, df):\n",
        "        cols = df.select_dtypes(include=['object']).columns.values.tolist()\n",
        "        for col in cols:\n",
        "            top_10 = df[col].value_counts().index[:10].tolist()\n",
        "            if len(top_10) == 10:\n",
        "                df[col] = [x if x in top_10 else \"Other\" for x in df[col]]\n",
        "                "
      ],
      "execution_count": 5,
      "outputs": []
    },
    {
      "cell_type": "markdown",
      "metadata": {
        "id": "EoTPNTEOy5CX"
      },
      "source": [
        "## C) Build the pipeline"
      ]
    },
    {
      "cell_type": "markdown",
      "metadata": {
        "id": "iePF9JkDy5CY"
      },
      "source": [
        "### Splits Manager\n",
        "The Splits Manager will allow us to easily access our train-test datasets (without worrying about the typos that a simple dictionary access command is susceptible to): "
      ]
    },
    {
      "cell_type": "code",
      "metadata": {
        "id": "SvFLN4EEy5CY"
      },
      "source": [
        "class SplitsManager:\n",
        "    def __init__(self):\n",
        "        self.X_train = None\n",
        "        self.X_test = None, \n",
        "        self.y_train = None \n",
        "        self.y_test = None\n",
        "        "
      ],
      "execution_count": 6,
      "outputs": []
    },
    {
      "cell_type": "markdown",
      "metadata": {
        "id": "chsQjOLoy5CY"
      },
      "source": [
        "### Pre-Processor\n",
        "The Pre-Processor defines transformations our pipeline will use. Since our dataset is unbalanced (a histogram of our outcome variable shows that 'functional' is vastly over-represented in the dataset relative to the other two outcomes), we will oversample our minority outcomes to achieve a more balanced dataset."
      ]
    },
    {
      "cell_type": "code",
      "metadata": {
        "id": "SfFKoQd4y5CZ"
      },
      "source": [
        "class PreProcessor():\n",
        "    def __init__(self):\n",
        "        pass\n",
        "\n",
        "    def get_preprocessor(self, df):\n",
        "        return {\n",
        "            'sampler': self.get_resampler(),\n",
        "            'col': self.get_col_transformer(df)\n",
        "            }\n",
        "\n",
        "    def get_resampler(self):\n",
        "        return RandomOverSampler(random_state=42)\n",
        "        \n",
        "    def get_col_transformer(self, df):\n",
        "        cont_transformer = Pipeline(steps=[\n",
        "            ('imputer', SimpleImputer(strategy='median')),\n",
        "            ('scaler', StandardScaler())])\n",
        "\n",
        "        cat_transformer = Pipeline(steps=[\n",
        "            ('imputer', SimpleImputer(strategy='constant', fill_value='unknown')),\n",
        "            ('onehot', OneHotEncoder(handle_unknown='ignore'))])\n",
        "\n",
        "        return ColumnTransformer(\n",
        "            transformers=[\n",
        "                ('num', cont_transformer, self.get_cont_features(df)),\n",
        "                ('cat', cat_transformer, self.get_cat_features(df))])\n",
        "\n",
        "    def get_cat_features(self, df):\n",
        "        return df.select_dtypes(include=['object']).columns\n",
        "        \n",
        "    def get_cont_features(self, df):\n",
        "        return df.select_dtypes(exclude=['object']).columns\n",
        "    \n",
        "        "
      ],
      "execution_count": 7,
      "outputs": []
    },
    {
      "cell_type": "markdown",
      "metadata": {
        "id": "ZD2Dbv_Ky5CZ"
      },
      "source": [
        "### Classifiers\n",
        "We can store our classifiers in a dictionary so that we can easily iterate over them during analysis:\n"
      ]
    },
    {
      "cell_type": "code",
      "metadata": {
        "id": "Cwp-8D01y5Ca"
      },
      "source": [
        "classifiers = {\n",
        "    # 'decision_tree': DecisionTreeClassifier(),\n",
        "    # 'random_forest': RandomForestClassifier(),\n",
        "    # 'knn': KNeighborsClassifier(),\n",
        "    'xgboost': XGBClassifier()\n",
        "}"
      ],
      "execution_count": 8,
      "outputs": []
    },
    {
      "cell_type": "markdown",
      "metadata": {
        "id": "yRQuh8QBy5Ca"
      },
      "source": [
        "### Param Grids\n",
        "We can similarly store the corresponding param grid for each classifier in a dictionary:\n"
      ]
    },
    {
      "cell_type": "code",
      "metadata": {
        "id": "9V_8Jt6uy5Ca"
      },
      "source": [
        "param_grids = {\n",
        "    'decision_tree': {\n",
        "        'clf__criterion': ['gini', 'entropy'],\n",
        "        'clf__max_depth': [None, 2, 3, 4, 5, 6],\n",
        "        'clf__min_samples_split': [2, 5, 10],\n",
        "        'clf__min_samples_leaf': [1, 2, 3, 4, 5, 6]\n",
        "    },\n",
        "    'random_forest': {\n",
        "        'clf__n_estimators': [10, 20, 30],\n",
        "        'clf__criterion': ['gini', 'entropy'],\n",
        "        'clf__max_depth': [5, 10, 20, 30, 35],\n",
        "        'clf__min_samples_split': [2, 5, 10],\n",
        "        'clf__min_samples_leaf': [2, 3, 6]\n",
        "    },\n",
        "    'knn': {\n",
        "        'clf__n_neighbors': [3, 5, 7, 11, 19],\n",
        "        'clf__weights': ['uniform', 'distance'],\n",
        "        'clf__metric': ['euclidean', 'manhattan']\n",
        "    },\n",
        "    'xgboost': {\n",
        "        'clf__max_depth': [10],\n",
        "    }\n",
        "}\n"
      ],
      "execution_count": 9,
      "outputs": []
    },
    {
      "cell_type": "markdown",
      "metadata": {
        "id": "hrtlr3Aqy5Cb"
      },
      "source": [
        "### Results Manager\n",
        "The Report Manager will use store and organize the results:"
      ]
    },
    {
      "cell_type": "code",
      "metadata": {
        "id": "VLVHnZ3sy5Cy"
      },
      "source": [
        "class ResultsManager:\n",
        "    def __init__(self, key, results, clf_report):\n",
        "        self.clf_name = key.replace(\"_\", \" \").upper()\n",
        "        self.best_estimator = results.best_estimator_\n",
        "        self.best_score = results.best_score_\n",
        "        self.best_params = results.best_params_\n",
        "        self.clf_report = clf_report\n"
      ],
      "execution_count": 10,
      "outputs": []
    },
    {
      "cell_type": "markdown",
      "metadata": {
        "id": "veT_4SY1y5Cz"
      },
      "source": [
        "### Report Manager\n",
        "The Report Manager will use the shared keys in these two dictionaries to iterate over each classifier and score its performance:\n"
      ]
    },
    {
      "cell_type": "code",
      "metadata": {
        "id": "OCKLOfvay5Cz"
      },
      "source": [
        "import pandas as pd\n",
        "from sklearn.model_selection import RandomizedSearchCV, GridSearchCV\n",
        "from sklearn.metrics import accuracy_score\n",
        "from imblearn.pipeline import Pipeline as imbPipeline\n",
        "from sklearn.metrics import classification_report\n",
        "\n",
        "class ReportManager:\n",
        "    def __init__(self, outcome):\n",
        "        self.splits = None\n",
        "        self.results = []\n",
        "        self.outcome = outcome\n",
        "\n",
        "    def run_reports(self, preprocessor, splits: SplitsManager):\n",
        "        self.splits = splits\n",
        "        list(map(lambda key: self.execute_pipeline(preprocessor, key), classifiers.keys()))\n",
        "        list(map(lambda x: self.display_predictions(x), self.results))\n",
        "        self.display_results()\n",
        "\n",
        "    def execute_pipeline(self, preprocessor, key):\n",
        "        print(f\"Beginning {key}...\")\n",
        "        param_grid = param_grids[key]\n",
        "        param_grid['col__num__imputer__strategy'] = ['mean', 'median']\n",
        "\n",
        "        pipe = imbPipeline([\n",
        "            ('col', preprocessor['col']),\n",
        "            ('sampler', preprocessor['sampler']),\n",
        "            (\"clf\", classifiers[key])\n",
        "            ])\n",
        "        gs = GridSearchCV(pipe,\n",
        "                            param_grid,\n",
        "                            cv=3,\n",
        "                            scoring=\"accuracy\",\n",
        "                            n_jobs=-1\n",
        "                        )\n",
        "        gs_results  = gs.fit(self.splits.X_train, self.splits.y_train.values.ravel())\n",
        "        y_preds = gs.predict(self.splits.X_test)\n",
        "        clf_report = classification_report(self.splits.y_test, y_preds, self.splits.y_train[self.outcome].unique().tolist())\n",
        "        self.results.append(ResultsManager(key, gs_results, clf_report))\n",
        "\n",
        "    def display_results(self):\n",
        "        rows = list(map(lambda x: [x.clf_name, x.best_score, x.best_params], self.results))\n",
        "        df = pd.DataFrame(rows, columns=[\n",
        "            'clf_name', \n",
        "            'best_score', \n",
        "            'best_params'\n",
        "        ]).sort_values(by='best_score', ascending = False)\n",
        "        print(df)\n",
        "        print('---------\\nDiagnostics\\n---------')\n",
        "        for result in self.results:\n",
        "            print(result.clf_name.upper())\n",
        "            print(f\"Accuracy: {result.best_score:.2%}\")\n",
        "            print(f\"Classification report:\")\n",
        "            print(result.clf_report)\n",
        "\n",
        "    def display_predictions(self, result: ResultsManager):\n",
        "        title = f\"{result.clf_name} ({result.best_score:.2%})\"\n",
        "        VizHelper().show_confusion_matrix(result.best_estimator, self.splits.X_test, self.splits.y_test, self.outcome, title)\n"
      ],
      "execution_count": 11,
      "outputs": []
    },
    {
      "cell_type": "markdown",
      "metadata": {
        "id": "2hshkWhpy5C0"
      },
      "source": [
        "## D) Tying it all together"
      ]
    },
    {
      "cell_type": "markdown",
      "metadata": {
        "id": "QrKEzXoTy5C0"
      },
      "source": [
        "### Data Manager\n",
        "The Data Manager is responsible for coordinating the different helper classes responsible for cleaning, pipeline-creation, visualization, and analysis:"
      ]
    },
    {
      "cell_type": "code",
      "metadata": {
        "id": "0pRm2a_7y5C0"
      },
      "source": [
        "class DataManager:\n",
        "    def __init__(self, sample_size, run_type_dev=True):\n",
        "\n",
        "        self.sample_size = sample_size\n",
        "        self.outcome = 'status_group'\n",
        "        self.splits = SplitsManager()\n",
        "        self.process_data(run_type_dev)\n",
        "\n",
        "    def process_data(self, run_type_dev):\n",
        "        raw_df = DataLoader().load(self.outcome, run_type_dev, self.sample_size)\n",
        "        df = Cleaner().clean_df(raw_df)\n",
        "        VizHelper().show_visualizations(df, self.outcome)\n",
        "        self.split_data(df, self.outcome)\n",
        "   \n",
        "    def split_data(self, df, outcome):\n",
        "        X = df[[i for i in df.columns if i != outcome]]\n",
        "        y = df[[outcome]]\n",
        "        \n",
        "        self.splits.X_train, self.splits.X_test,\\\n",
        "            self.splits.y_train, self.splits.y_test =\\\n",
        "            tts(X, y, test_size = 0.2, random_state = 42)\n",
        "\n",
        "    def get_report(self):\n",
        "        preprocessor = PreProcessor().get_preprocessor(self.splits.X_train)\n",
        "        ReportManager(self.outcome).run_reports(preprocessor, self.splits)\n"
      ],
      "execution_count": 12,
      "outputs": []
    },
    {
      "cell_type": "markdown",
      "metadata": {
        "id": "7feDYxqsy5C1"
      },
      "source": [
        "# 3) Analyze Results & Take-aways"
      ]
    },
    {
      "cell_type": "markdown",
      "metadata": {
        "id": "cjUo02jPy5C6"
      },
      "source": [
        "Now that we've defined our classes, we can kick off the analysis:"
      ]
    },
    {
      "cell_type": "code",
      "metadata": {
        "colab": {
          "base_uri": "https://localhost:8080/",
          "height": 1000
        },
        "id": "biu2didVy5C7",
        "outputId": "5d724475-4ae0-4536-f50c-930e8b67b022"
      },
      "source": [
        "dfs = DataManager(sample_size=500, run_type_dev=False)\n",
        "dfs.get_report()\n"
      ],
      "execution_count": 13,
      "outputs": [
        {
          "output_type": "display_data",
          "data": {
            "image/png": "[encoded data removed]",
            "text/plain": [
              "<Figure size 432x288 with 1 Axes>"
            ]
          },
          "metadata": {
            "tags": [],
            "needs_background": "light"
          }
        },
        {
          "output_type": "display_data",
          "data": {
            "image/png": "[encoded data removed]",
            "text/plain": [
              "<Figure size 504x432 with 2 Axes>"
            ]
          },
          "metadata": {
            "tags": [],
            "needs_background": "light"
          }
        },
        {
          "output_type": "display_data",
          "data": {
            "image/png": "[encoded data removed]",
            "text/plain": [
              "<Figure size 648x432 with 6 Axes>"
            ]
          },
          "metadata": {
            "tags": [],
            "needs_background": "light"
          }
        },
        {
          "output_type": "display_data",
          "data": {
            "image/png": "[encoded data removed]",
            "text/plain": [
              "<Figure size 648x432 with 6 Axes>"
            ]
          },
          "metadata": {
            "tags": [],
            "needs_background": "light"
          }
        },
        {
          "output_type": "stream",
          "text": [
            "Beginning xgboost...\n"
          ],
          "name": "stdout"
        },
        {
          "output_type": "stream",
          "text": [
            "/usr/local/lib/python3.7/dist-packages/sklearn/utils/deprecation.py:87: FutureWarning: Function safe_indexing is deprecated; safe_indexing is deprecated in version 0.22 and will be removed in version 0.24.\n",
            "  warnings.warn(msg, category=FutureWarning)\n"
          ],
          "name": "stderr"
        },
        {
          "output_type": "display_data",
          "data": {
            "image/png": "[encoded data removed]",
            "text/plain": [
              "<Figure size 432x288 with 1 Axes>"
            ]
          },
          "metadata": {
            "tags": [],
            "needs_background": "light"
          }
        },
        {
          "output_type": "display_data",
          "data": {
            "image/png": "[encoded data removed]",
            "text/plain": [
              "<Figure size 432x288 with 2 Axes>"
            ]
          },
          "metadata": {
            "tags": [],
            "needs_background": "light"
          }
        },
        {
          "output_type": "stream",
          "text": [
            "  clf_name  best_score                                        best_params\n",
            "0  XGBOOST    0.748401  {'clf__max_depth': 10, 'col__num__imputer__str...\n",
            "---------\n",
            "Diagnostics\n",
            "---------\n",
            "XGBOOST\n",
            "Accuracy: 74.84%\n",
            "Classification report:\n",
            "                         precision    recall  f1-score   support\n",
            "\n",
            "             functional       0.84      0.76      0.80      6457\n",
            "         non functional       0.85      0.75      0.79      4572\n",
            "functional needs repair       0.29      0.67      0.40       851\n",
            "\n",
            "               accuracy                           0.75     11880\n",
            "              macro avg       0.66      0.73      0.66     11880\n",
            "           weighted avg       0.80      0.75      0.77     11880\n",
            "\n"
          ],
          "name": "stdout"
        }
      ]
    },
    {
      "cell_type": "markdown",
      "metadata": {
        "id": "69kZgj1NZs11"
      },
      "source": [
        "Decision Tree:"
      ]
    },
    {
      "cell_type": "code",
      "metadata": {
        "id": "0KXNhNLIzFDM"
      },
      "source": [
        "# Decision Tree\n",
        "# Accuracy: 74.60%\n",
        "# Classification report:\n",
        "# ```\n",
        "#                          precision    recall  f1-score   support\n",
        "\n",
        "#              functional       0.80      0.81      0.80      6457\n",
        "#          non functional       0.78      0.76      0.77      4572\n",
        "# functional needs repair       0.37      0.40      0.38       851\n",
        "\n",
        "#                accuracy                           0.76     11880\n",
        "#               macro avg       0.65      0.66      0.65     11880\n",
        "#            weighted avg       0.76      0.76      0.76     11880"
      ],
      "execution_count": null,
      "outputs": []
    },
    {
      "cell_type": "markdown",
      "metadata": {
        "id": "NselxNeNZyDH"
      },
      "source": [
        "Random Forest:"
      ]
    },
    {
      "cell_type": "code",
      "metadata": {
        "id": "pwTedqoWzAMc"
      },
      "source": [
        "# Random Forest\n",
        "# Accuracy: 77.37%\n",
        "# Classification report:\n",
        "#                          precision    recall  f1-score   support\n",
        "\n",
        "#              functional       0.83      0.80      0.82      6457\n",
        "#          non functional       0.83      0.77      0.80      4572\n",
        "# functional needs repair       0.35      0.57      0.43       851\n",
        "\n",
        "#                accuracy                           0.77     11880\n",
        "#               macro avg       0.67      0.72      0.68     11880\n",
        "#            weighted avg       0.80      0.77      0.78     11880"
      ],
      "execution_count": null,
      "outputs": []
    },
    {
      "cell_type": "markdown",
      "metadata": {
        "id": "bNCbw8H8FVUE"
      },
      "source": [
        "KNN"
      ]
    },
    {
      "cell_type": "code",
      "metadata": {
        "id": "bJ1tkDQ-y9Va"
      },
      "source": [
        "# KNN\n",
        "# Accuracy: 75.08%\n",
        "# Classification report:\n",
        "#                          precision    recall  f1-score   support\n",
        "\n",
        "#              functional       0.82      0.78      0.80      6457\n",
        "#          non functional       0.77      0.78      0.78      4572\n",
        "# functional needs repair       0.37      0.48      0.42       851\n",
        "\n",
        "#                accuracy                           0.76     11880\n",
        "#               macro avg       0.65      0.68      0.67     11880\n",
        "#            weighted avg       0.77      0.76      0.77     11880"
      ],
      "execution_count": null,
      "outputs": []
    },
    {
      "cell_type": "markdown",
      "metadata": {
        "id": "BYTuwek9G1zi"
      },
      "source": [
        "XGBoost"
      ]
    },
    {
      "cell_type": "code",
      "metadata": {
        "id": "oeqJP5Q9y5HG"
      },
      "source": [
        "# XGBOOST\n",
        "# Accuracy: 74.84%\n",
        "# Classification report:\n",
        "#                          precision    recall  f1-score   support\n",
        "\n",
        "#              functional       0.84      0.76      0.80      6457\n",
        "#          non functional       0.85      0.75      0.79      4572\n",
        "# functional needs repair       0.29      0.67      0.40       851\n",
        "\n",
        "#                accuracy                           0.75     11880\n",
        "#               macro avg       0.66      0.73      0.66     11880\n",
        "#            weighted avg       0.80      0.75      0.77     11880\n"
      ],
      "execution_count": null,
      "outputs": []
    },
    {
      "cell_type": "markdown",
      "metadata": {
        "id": "07OMU7Fjy5C8"
      },
      "source": [
        "### Let's first consider the implications of our exploratory visualizations:\n",
        "\n",
        "1) Our predictors are not highly correlated. We do not need to drop features out of concerns for multicollinearity.\n",
        "\n",
        "2) Our outcome variables is extremely unbalanced. We will compensate for this by oversampling the underrepresented classes in our pipeline.\n",
        "\n",
        "3) Our boxplots indicate that our predictors are fairly free of outliers.\n"
      ]
    },
    {
      "cell_type": "markdown",
      "metadata": {
        "id": "t_ENKHrAy5C9"
      },
      "source": [
        "### Turning to our confusion matrices, let's review the relative performance of our different classifiers:\n",
        "\n",
        "1) Both our Decision Tree and K-Nearest Neighbors classifiers performed well (73.7% and 75.1% accuracy, respectively).\n",
        "\n",
        "2) Random Forest and XGBoost performed best, with XGBoost (77.6%) taking a slight lead over Random Forest (77.0%).\n",
        "\n",
        "3) Support Vector Machine could not be completed locally with the available computing resources. In future projects, I will train my models using cloud-based servers."
      ]
    },
    {
      "cell_type": "markdown",
      "metadata": {
        "id": "aITRi0Tjy5C-"
      },
      "source": [
        "### Additional avenues for exploration\n",
        "\n",
        "In the future, it would be exciting to consider how frequency of conflict incidences related to water-resource usage might impact the model's performance!"
      ]
    },
    {
      "cell_type": "markdown",
      "metadata": {
        "id": "Tuor7N5ky5C-"
      },
      "source": [
        "### Sources\n",
        "\n"
      ]
    },
    {
      "cell_type": "markdown",
      "metadata": {
        "id": "NXSoQabYy5C_"
      },
      "source": [
        "- https://towardsdatascience.com/fuzzywuzzy-find-similar-strings-within-one-column-in-a-pandas-data-frame-99f6c2a0c212\n",
        "    \n",
        "- https://towardsdatascience.com/fuzzywuzzy-fuzzy-string-matching-in-python-beginners-guide-9adc0edf4b35\n",
        "\n",
        "- https://stackabuse.com/overview-of-classification-methods-in-python-with-scikit-learn/\n",
        "    \n",
        "- https://stackabuse.com/the-naive-bayes-algorithm-in-python-with-scikit-learn/\n",
        "\n",
        "- https://medium.com/@erikgreenj/k-neighbors-classifier-with-gridsearchcv-basics-3c445ddeb657\n",
        "\n",
        "- https://medium.com/vickdata/a-simple-guide-to-scikit-learn-pipelines-4ac0d974bdcf\n",
        "\n",
        "- https://datascience.stackexchange.com/questions/60862/if-i-have-negative-and-positive-numbers-for-a-feature-should-minmaxscaler-be-1\n",
        "\n",
        "- https://stackoverflow.com/questions/41899132/invalid-parameter-for-sklearn-estimator-pipeline\n",
        "\n",
        "- https://lifewithdata.com/2021/04/02/how-to-build-machine-learning-pipeline-with-scikit-learn-and-why-is-it-essential/\n",
        "\n",
        "- https://stackoverflow.com/questions/63467815/how-to-access-columntransformer-elements-in-gridsearchcv\n",
        "\n",
        "- https://openscoring.io/blog/2020/10/24/converting_sklearn_imblearn_pipeline_pmml/\n",
        "\n",
        "- https://imbalanced-learn.org/stable/over_sampling.html\n",
        "\n",
        "- https://towardsdatascience.com/imbalanced-class-sizes-and-classification-models-a-cautionary-tale-part-2-cf371500d1b3"
      ]
    }
  ]
}